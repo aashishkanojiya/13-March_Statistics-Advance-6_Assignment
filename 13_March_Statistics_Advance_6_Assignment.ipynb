{
  "nbformat": 4,
  "nbformat_minor": 0,
  "metadata": {
    "colab": {
      "provenance": []
    },
    "kernelspec": {
      "name": "python3",
      "display_name": "Python 3"
    },
    "language_info": {
      "name": "python"
    }
  },
  "cells": [
    {
      "cell_type": "markdown",
      "source": [
        "Q1. Explain the assumptions required to use ANOVA and provide examples of violations that could impact\n",
        "the validity of the results."
      ],
      "metadata": {
        "id": "06kXs0hYJx0X"
      }
    },
    {
      "cell_type": "markdown",
      "source": [
        "Answer:-\n",
        "\n",
        "Analysis of Variance (ANOVA) is a statistical method used to compare means between three or more groups. The method makes several assumptions about the data, which are important to consider when interpreting the results.\n",
        "Assumptions of ANOVA:\n",
        "Independence: The observations within each group must be independent of each other. This means that the value of one observation should not influence the value of another observation within the same group.\n",
        "\n",
        "Normality: The distribution of the data within each group should be approximately normal. This means that the data should be symmetrically distributed around the mean and the majority of the data should be located near the mean.\n",
        "\n",
        "Homogeneity of variance: The variance within each group should be approximately equal. This means that the spread of the data should be similar across all groups.\n",
        "\n",
        "Violations of these assumptions can impact the validity of ANOVA results and should be carefully considered when interpreting the results. Examples of violations include:\n",
        "Independence: If there is a relationship between observations within a group, the assumption of independence is violated. For example, if the same individual is measured multiple times in a study, the observations within that individual are not independent.\n",
        "\n",
        "Normality: If the data is not normally distributed within each group, the ANOVA results may not be valid. For example, if the data is highly skewed, the normality assumption may be violated.\n",
        "\n",
        "Homogeneity of variance: If the variance is not approximately equal within each group, the ANOVA results may not be valid. For example, if the variance in one group is much larger than the variance in another group, the homogeneity of variance assumption may be violated.\n",
        "\n",
        "In summary, it is important to carefully consider the assumptions of ANOVA and to check for any violations before interpreting the results. If violations are found, alternative methods may need to be used to analyze the data."
      ],
      "metadata": {
        "id": "a-lH6wekJ1Qu"
      }
    },
    {
      "cell_type": "markdown",
      "source": [
        "Q2. What are the three types of ANOVA, and in what situations would each be used?"
      ],
      "metadata": {
        "id": "ghERFKJtKapy"
      }
    },
    {
      "cell_type": "markdown",
      "source": [
        "Answer:-\n",
        "There are three types of ANOVA:\n",
        "\n",
        "1.One-way ANOVA: This type of ANOVA is used when there is only one independent variable, which has three or more levels (or groups). One-way ANOVA is used to determine if there are any significant differences between the means of the different levels/groups. For example, one-way ANOVA can be used to compare the average weight loss among three different diet groups.\n",
        "\n",
        "2.Two-way ANOVA: This type of ANOVA is used when there are two independent variables, both of which have two or more levels. Two-way ANOVA is used to determine if there are any significant main effects (i.e., the effect of each independent variable on the dependent variable) and/or interaction effects (i.e., the combined effect of the two independent variables on the dependent variable). For example, two-way ANOVA can be used to compare the average sales of two different products (product A and product B) in two different regions (North and South).\n",
        "\n",
        "3.MANOVA (Multivariate Analysis of Variance): This type of ANOVA is used when there are two or more dependent variables (i.e., outcome variables) and one or more independent variables. MANOVA is used to determine if there are any significant differences between the means of the dependent variables across the different levels of the independent variable. For example, MANOVA can be used to compare the average scores on multiple personality traits (e.g., extroversion, agreeableness, neuroticism) between different age groups (young, middle-aged, and old)."
      ],
      "metadata": {
        "id": "Oo_TbuE2KbN5"
      }
    },
    {
      "cell_type": "markdown",
      "source": [
        "Q3. What is the partitioning of variance in ANOVA, and why is it important to understand this concept?"
      ],
      "metadata": {
        "id": "Z3xkCxxoKnd3"
      }
    },
    {
      "cell_type": "markdown",
      "source": [
        "Answer:-\n",
        "\n",
        "The partitioning of variance in ANOVA refers to the division of the total variation in a dataset into different sources of variation, which are then used to calculate the F-statistic and test for significant differences between groups. In ANOVA, the total variance is partitioned into two components: the variance between groups and the variance within groups.\n",
        "\n",
        "The variance between groups represents the differences between the group means, and is calculated by taking the sum of squares between groups (SSB). The variance within groups represents the variability within each group, and is calculated by taking the sum of squares within groups (SSW). The total variance is calculated by taking the sum of squares total (SST), which is the sum of the squared differences between each data point and the overall mean.\n",
        "\n",
        "By understanding the partitioning of variance in ANOVA, we can determine the proportion of the total variance that can be attributed to the differences between groups (SSB), and the proportion that is due to random error within each group (SSW). This allows us to test whether the differences between groups are statistically significant, and to determine the magnitude of these differences relative to the overall variability in the dataset. It also allows us to identify the sources of variation that are most important in explaining the differences between groups, and to assess the validity of our conclusions based on the assumptions underlying the ANOVA model.\n",
        "\n",
        "In summary, understanding the partitioning of variance in ANOVA is important for interpreting the results of the analysis, identifying sources of variation that contribute to group differences, and evaluating the assumptions underlying the ANOVA model."
      ],
      "metadata": {
        "id": "v7wGdXhjKwYn"
      }
    },
    {
      "cell_type": "markdown",
      "source": [
        "Q4. How would you calculate the total sum of squares (SST), explained sum of squares (SSE), and residual\n",
        "sum of squares (SSR) in a one-way ANOVA using Python?"
      ],
      "metadata": {
        "id": "C_j1UcqKLKfJ"
      }
    },
    {
      "cell_type": "markdown",
      "source": [
        "Answer:-"
      ],
      "metadata": {
        "id": "CklVR5znLLC5"
      }
    },
    {
      "cell_type": "code",
      "execution_count": 2,
      "metadata": {
        "colab": {
          "base_uri": "https://localhost:8080/"
        },
        "id": "jDIC2TqBJxIt",
        "outputId": "03402130-e242-4091-9ed6-0fbb81f6f9c7"
      },
      "outputs": [
        {
          "output_type": "stream",
          "name": "stdout",
          "text": [
            "Top 5 rows of IRIS dataset : \n",
            "   sepal_length  sepal_width  petal_length  petal_width species\n",
            "0           5.1          3.5           1.4          0.2  setosa\n",
            "1           4.9          3.0           1.4          0.2  setosa\n",
            "2           4.7          3.2           1.3          0.2  setosa\n",
            "3           4.6          3.1           1.5          0.2  setosa\n",
            "4           5.0          3.6           1.4          0.2  setosa\n",
            "\n",
            "===================================================================\n",
            "\n",
            "Values for Sepal Length vs Species:\n",
            "SSE: 63.2121\n",
            "SSR: 38.9562\n",
            "SST: 102.1683\n",
            "\n",
            "===================================================================\n",
            "\n",
            "             df     sum_sq    mean_sq           F        PR(>F)\n",
            "species     2.0  63.212133  31.606067  119.264502  1.669669e-31\n",
            "Residual  147.0  38.956200   0.265008         NaN           NaN\n"
          ]
        }
      ],
      "source": [
        "import pandas as pd\n",
        "from statsmodels.formula.api import ols\n",
        "import seaborn as sns\n",
        "from statsmodels.stats.anova import anova_lm\n",
        "\n",
        "# Loading Iris dataset from seaborn\n",
        "df_iris = sns.load_dataset('iris')\n",
        "print('Top 5 rows of IRIS dataset : ')\n",
        "print(df_iris.head())\n",
        "print('\\n===================================================================\\n')\n",
        "\n",
        "# Fit the one-way ANOVA model (sepal length vs Species)\n",
        "model = ols('sepal_length ~ species', data=df_iris).fit()\n",
        "\n",
        "# Calculate the sum of squares for the model\n",
        "print('Values for Sepal Length vs Species:')\n",
        "SSE = model.ess\n",
        "SSR = model.ssr\n",
        "SST = SSE + SSR\n",
        "\n",
        "print('SSE:', round(SSE,4))\n",
        "print('SSR:', round(SSR,4))\n",
        "print('SST:', round(SST,4))\n",
        "\n",
        "print('\\n===================================================================\\n')\n",
        "# Print the ANOVA table\n",
        "print(anova_lm(model))"
      ]
    },
    {
      "cell_type": "markdown",
      "source": [
        "Q5. In a two-way ANOVA, how would you calculate the main effects and interaction effects using Python?"
      ],
      "metadata": {
        "id": "8yZruc3HNwMQ"
      }
    },
    {
      "cell_type": "markdown",
      "source": [
        "Answer:-"
      ],
      "metadata": {
        "id": "CVmq0YPLNxEf"
      }
    },
    {
      "cell_type": "code",
      "source": [
        "import numpy as np\n",
        "import pandas as pd\n",
        "import statsmodels.api as sm\n",
        "from statsmodels.formula.api import ols\n",
        "\n",
        "# Load the inbuilt dataset from statsmodels\n",
        "data = sm.datasets.get_rdataset(\"ToothGrowth\", \"datasets\").data\n",
        "\n",
        "# printing top 5 rows of Tooth Growth dataset\n",
        "print('Top 5 rows of Tooth Growth Dataset')\n",
        "print(data.head())\n",
        "print('\\n==============================================================\\n')\n",
        "\n",
        "# Define the model formula\n",
        "model_formula = \"len ~ C(supp) + C(dose) + C(supp):C(dose)\"\n",
        "\n",
        "# Fit the model using OLS regression\n",
        "model = ols(model_formula, data).fit()\n",
        "\n",
        "# Calculate the main effects and interaction effects\n",
        "main_effects = sm.stats.anova_lm(model, typ=2)['sum_sq'][:2]\n",
        "interaction_effect = sm.stats.anova_lm(model, typ=2)['sum_sq'][2:3]\n",
        "\n",
        "# Print the results\n",
        "print(\"Main effects:\")\n",
        "print(main_effects)\n",
        "print(\"\\n==============================\\n\")\n",
        "print(\"Interaction effect:\")\n",
        "print(interaction_effect)\n",
        "print(\"\\n==============================\\n\")\n",
        "print(\"ANOVA Table:\")\n",
        "print(anova_lm(model,typ=2))"
      ],
      "metadata": {
        "colab": {
          "base_uri": "https://localhost:8080/"
        },
        "id": "OESBk8mlNr08",
        "outputId": "a1b9a0ff-d83a-457c-b673-5fb6b1385e6f"
      },
      "execution_count": 5,
      "outputs": [
        {
          "output_type": "stream",
          "name": "stdout",
          "text": [
            "Top 5 rows of Tooth Growth Dataset\n",
            "    len supp  dose\n",
            "0   4.2   VC   0.5\n",
            "1  11.5   VC   0.5\n",
            "2   7.3   VC   0.5\n",
            "3   5.8   VC   0.5\n",
            "4   6.4   VC   0.5\n",
            "\n",
            "==============================================================\n",
            "\n",
            "Main effects:\n",
            "C(supp)     205.350000\n",
            "C(dose)    2426.434333\n",
            "Name: sum_sq, dtype: float64\n",
            "\n",
            "==============================\n",
            "\n",
            "Interaction effect:\n",
            "C(supp):C(dose)    108.319\n",
            "Name: sum_sq, dtype: float64\n",
            "\n",
            "==============================\n",
            "\n",
            "ANOVA Table:\n",
            "                      sum_sq    df          F        PR(>F)\n",
            "C(supp)           205.350000   1.0  15.571979  2.311828e-04\n",
            "C(dose)          2426.434333   2.0  91.999965  4.046291e-18\n",
            "C(supp):C(dose)   108.319000   2.0   4.106991  2.186027e-02\n",
            "Residual          712.106000  54.0        NaN           NaN\n"
          ]
        }
      ]
    },
    {
      "cell_type": "markdown",
      "source": [
        "Q6. Suppose you conducted a one-way ANOVA and obtained an F-statistic of 5.23 and a p-value of 0.02.\n",
        "What can you conclude about the differences between the groups, and how would you interpret these\n",
        "results?"
      ],
      "metadata": {
        "id": "dM9euuDLPyMr"
      }
    },
    {
      "cell_type": "markdown",
      "source": [
        "Answer:-\n",
        "\n",
        "Given an F-statistic of 5.23 and a p-value of 0.02 from a one-way ANOVA, here's what we can conclude and how to interpret these results:\n",
        "\n",
        "Conclusion:\n",
        "The p-value of 0.02 is less than the common significance level of 0.05, which means we reject the null hypothesis.\n",
        "\n",
        "Interpretation:\n",
        "\n",
        "1.Statistical Significance:\n",
        "\n",
        "The obtained p-value (0.02) indicates that there is a statistically significant difference between the group means. In other words, at least one group mean is different from the others.\n",
        "\n",
        "2.F-Statistic:\n",
        "\n",
        "The F-statistic of 5.23 shows the ratio of the variance explained by the group differences to the variance within the groups. A higher F-value indicates a greater degree of separation between group means relative to the variation within the groups.\n",
        "\n",
        "3.Implications:\n",
        "\n",
        "Since we have rejected the null hypothesis, we can conclude that not all groups are the same. However, this test does not specify which groups are different from each other. Additional post-hoc tests (such as Tukey's HSD) would be necessary to identify the specific groups that differ."
      ],
      "metadata": {
        "id": "yv2EEuQtP1mE"
      }
    },
    {
      "cell_type": "markdown",
      "source": [
        "Q7. In a repeated measures ANOVA, how would you handle missing data, and what are the potential\n",
        "consequences of using different methods to handle missing data?"
      ],
      "metadata": {
        "id": "x3zdL7R_QRvn"
      }
    },
    {
      "cell_type": "markdown",
      "source": [
        "Answer:-\n",
        "\n",
        "In a repeated measures ANOVA, missing data can be handled in several ways:\n",
        "\n",
        "1.Listwise deletion: This method involves excluding any cases with missing data from the analysis. This can be done using the dropna() function in pandas. While this approach is simple, it may result in a loss of statistical power if a large amount of data is missing.\n",
        "\n",
        "2.Mean imputation: This method involves replacing missing values with the mean of the non-missing values. This can be done using the fillna() function in pandas. While this approach is simple and easy to implement, it may underestimate the variability of the data and result in biased estimates.\n",
        "\n",
        "3.Last observation carried forward (LOCF): This method involves imputing missing values with the last observed value. This can be done using the fillna(method='ffill') function in pandas. While this approach is useful for data with a temporal order, it may not be appropriate for all situations and may result in biased estimates.\n",
        "\n",
        "4.Multiple imputation: This method involves imputing missing values multiple times using a statistical model, and then combining the results to obtain estimates and standard errors. This can be done using the fancyimpute library in Python. While this approach is more sophisticated and can produce more accurate estimates than mean imputation or LOCF, it is computationally intensive and requires careful consideration of the underlying assumptions.\n",
        "\n",
        "The potential consequences of using different methods to handle missing data in a repeated measures ANOVA include bias in the estimated means, standard errors, and effect sizes, as well as a loss of statistical power. It's important to carefully consider the underlying assumptions and potential limitations of each method and choose the approach that is most appropriate for the specific dataset and research question. Additionally, it may be beneficial to conduct sensitivity analyses to assess the robustness of the results to different methods of handling missing data."
      ],
      "metadata": {
        "id": "q1Q_P2YEQSFb"
      }
    },
    {
      "cell_type": "markdown",
      "source": [
        "Q8. What are some common post-hoc tests used after ANOVA, and when would you use each one? Provide\n",
        "an example of a situation where a post-hoc test might be necessary."
      ],
      "metadata": {
        "id": "ABXdX0h7QpuW"
      }
    },
    {
      "cell_type": "markdown",
      "source": [
        "Answer:-\n",
        "\n",
        "Post-hoc tests are used in ANOVA to compare specific pairs of groups after a significant main effect or interaction effect has been found. Some common post-hoc tests include:\n",
        "\n",
        "1.Tukey's Honestly Significant Difference (HSD) test: This test compares all possible pairs of group means and controls for the family-wise error rate. It is often used when the number of groups is equal or large, and when there is no prior knowledge about which groups differ.\n",
        "\n",
        "2.Bonferroni correction: This test controls the family-wise error rate by dividing the alpha level by the number of comparisons. It is often used when there are few groups or when there is prior knowledge about which groups differ.\n",
        "\n",
        "3.Scheffe's test: This test also controls the family-wise error rate but is more conservative than Tukey's HSD test. It is often used when the number of groups is large, and when there is no prior knowledge about which groups differ.\n",
        "\n",
        "4.Dunnett's test: This test compares each group mean to a control group mean and controls for the family-wise error rate. It is often used when there is a control group and when the research question is focused on comparing other groups to the control group.\n",
        "\n",
        "The choice of post-hoc test depends on the research question, the number of groups, and the prior knowledge about which groups are likely to differ. A post-hoc test might be necessary when an ANOVA indicates a significant difference between groups but does not identify which specific groups differ. For example, a researcher might conduct an ANOVA to examine the effect of different instructional methods on student achievement. If the ANOVA shows a significant main effect of instructional method, the researcher might use a post-hoc test to compare the mean scores of each instructional method to identify which methods are significantly different from each other.\n",
        "\n"
      ],
      "metadata": {
        "id": "dWE-TGt5Qr_7"
      }
    },
    {
      "cell_type": "markdown",
      "source": [
        "Q9. A researcher wants to compare the mean weight loss of three diets: A, B, and C. They collect data from\n",
        "50 participants who were randomly assigned to one of the diets. Conduct a one-way ANOVA using Python\n",
        "to determine if there are any significant differences between the mean weight loss of the three diets.\n",
        "Report the F-statistic and p-value, and interpret the results."
      ],
      "metadata": {
        "id": "Y0QZKER-RBaP"
      }
    },
    {
      "cell_type": "markdown",
      "source": [
        "Answer:-"
      ],
      "metadata": {
        "id": "izdjwHjuRDoH"
      }
    },
    {
      "cell_type": "code",
      "source": [
        "import numpy as np\n",
        "from scipy import stats\n",
        "\n",
        "# Sample data for weight loss (in kg) for each diet\n",
        "diet_A = np.random.normal(loc=5, scale=1, size=17)  # Mean weight loss for Diet A\n",
        "diet_B = np.random.normal(loc=6, scale=1, size=17)  # Mean weight loss for Diet B\n",
        "diet_C = np.random.normal(loc=7, scale=1, size=16)  # Mean weight loss for Diet C\n",
        "\n",
        "# Conducting the one-way ANOVA\n",
        "F_statistic, p_value = stats.f_oneway(diet_A, diet_B, diet_C)\n",
        "\n",
        "print(\"F-statistic:\", F_statistic)\n",
        "print(\"p-value:\", p_value)"
      ],
      "metadata": {
        "colab": {
          "base_uri": "https://localhost:8080/"
        },
        "id": "V2iZHPXbR2Fs",
        "outputId": "0ef339ba-f5ef-4e20-a288-daa6dd5a55b5"
      },
      "execution_count": 11,
      "outputs": [
        {
          "output_type": "stream",
          "name": "stdout",
          "text": [
            "F-statistic: 17.718849997245094\n",
            "p-value: 1.842221297996042e-06\n"
          ]
        }
      ]
    },
    {
      "cell_type": "markdown",
      "source": [
        "Q10. A company wants to know if there are any significant differences in the average time it takes to\n",
        "complete a task using three different software programs: Program A, Program B, and Program C. They\n",
        "randomly assign 30 employees to one of the programs and record the time it takes each employee to\n",
        "complete the task. Conduct a two-way ANOVA using Python to determine if there are any main effects or\n",
        "interaction effects between the software programs and employee experience level (novice vs.\n",
        "experienced). Report the F-statistics and p-values, and interpret the results."
      ],
      "metadata": {
        "id": "mVXylQHRUOU1"
      }
    },
    {
      "cell_type": "markdown",
      "source": [
        "Answer:-"
      ],
      "metadata": {
        "id": "pxTewiuiUPz7"
      }
    },
    {
      "cell_type": "code",
      "source": [
        "import pandas as pd\n",
        "import statsmodels.api as sm\n",
        "from statsmodels.formula.api import ols\n",
        "\n",
        "# Setting random seed for reproducibility\n",
        "np.random.seed(123)\n",
        "\n",
        "# Generating 2 random time samples for novice and expert\n",
        "time_novice = np.random.normal(loc=15, scale=2, size=30)\n",
        "time_expert = np.random.normal(loc=10, scale=2, size=30)\n",
        "\n",
        "# Generate simulated data\n",
        "data = pd.DataFrame({\n",
        "    'Software': ['A']*20 + ['B']*20 + ['C']*20,\n",
        "    'Experience': ['Novice']*30 + ['Experienced']*30,\n",
        "    'Time': list(time_novice)+list(time_expert)\n",
        "})\n",
        "\n",
        "# Print the simulated data head\n",
        "print('Simulated Data example :')\n",
        "print(data.head())\n",
        "\n",
        "print('\\n======================================================================================\\n')\n",
        "\n",
        "# Fit the two-way ANOVA model\n",
        "model = ols('Time ~ C(Software) + C(Experience) + C(Software):C(Experience)', data=data).fit()\n",
        "table = sm.stats.anova_lm(model, typ=1)\n",
        "\n",
        "# Set significance level\n",
        "alpha = 0.05\n",
        "\n",
        "# Main effects and interaction effect\n",
        "print(table)\n",
        "print('\\n')\n",
        "if table['PR(>F)'][0] < alpha:\n",
        "    print(\"Conclusion: There is a significant main effect of software.\")\n",
        "else:\n",
        "    print(\"Conclusion: There is no significant main effect of software.\")\n",
        "\n",
        "if table['PR(>F)'][1] < alpha:\n",
        "    print(\"Conclusion: There is a significant main effect of experience.\")\n",
        "else:\n",
        "    print(\"Conclusion: There is no significant main effect of experience.\")\n",
        "\n",
        "if table['PR(>F)'][2] < alpha:\n",
        "    print(\"Conclusion: There is a significant interaction effect between software and experience.\")\n",
        "else:\n",
        "    print(\"Conclusion: There is no significant interaction effect between software and experience.\")"
      ],
      "metadata": {
        "colab": {
          "base_uri": "https://localhost:8080/"
        },
        "id": "Muaej50LVoCL",
        "outputId": "27549ecd-053e-464d-e108-0caef6523f81"
      },
      "execution_count": 12,
      "outputs": [
        {
          "output_type": "stream",
          "name": "stdout",
          "text": [
            "Simulated Data example :\n",
            "  Software Experience       Time\n",
            "0        A     Novice  12.828739\n",
            "1        A     Novice  16.994691\n",
            "2        A     Novice  15.565957\n",
            "3        A     Novice  11.987411\n",
            "4        A     Novice  13.842799\n",
            "\n",
            "======================================================================================\n",
            "\n",
            "                             df      sum_sq     mean_sq          F  \\\n",
            "C(Software)                 2.0  204.881181  102.440590  18.135666   \n",
            "C(Experience)               1.0  165.079097  165.079097  29.224933   \n",
            "C(Software):C(Experience)   2.0   17.481552    8.740776   1.547431   \n",
            "Residual                   56.0  316.319953    5.648571        NaN   \n",
            "\n",
            "                                 PR(>F)  \n",
            "C(Software)                8.460472e-07  \n",
            "C(Experience)              1.375177e-06  \n",
            "C(Software):C(Experience)  2.217544e-01  \n",
            "Residual                            NaN  \n",
            "\n",
            "\n",
            "Conclusion: There is a significant main effect of software.\n",
            "Conclusion: There is a significant main effect of experience.\n",
            "Conclusion: There is no significant interaction effect between software and experience.\n"
          ]
        },
        {
          "output_type": "stream",
          "name": "stderr",
          "text": [
            "<ipython-input-12-86a6f4d5581e>:35: FutureWarning: Series.__getitem__ treating keys as positions is deprecated. In a future version, integer keys will always be treated as labels (consistent with DataFrame behavior). To access a value by position, use `ser.iloc[pos]`\n",
            "  if table['PR(>F)'][0] < alpha:\n",
            "<ipython-input-12-86a6f4d5581e>:40: FutureWarning: Series.__getitem__ treating keys as positions is deprecated. In a future version, integer keys will always be treated as labels (consistent with DataFrame behavior). To access a value by position, use `ser.iloc[pos]`\n",
            "  if table['PR(>F)'][1] < alpha:\n",
            "<ipython-input-12-86a6f4d5581e>:45: FutureWarning: Series.__getitem__ treating keys as positions is deprecated. In a future version, integer keys will always be treated as labels (consistent with DataFrame behavior). To access a value by position, use `ser.iloc[pos]`\n",
            "  if table['PR(>F)'][2] < alpha:\n"
          ]
        }
      ]
    },
    {
      "cell_type": "markdown",
      "source": [
        "Here are the interpretations of the three conclusions:\n",
        "\n",
        "\"There is a significant main effect of software\": This means that the software programs used by the employees have a significant impact on the outcome variable (e.g., completion time), independent of the experience level of the employees. This suggests that the choice of software program is an important factor that should be considered carefully when completing this task.\n",
        "\n",
        "\"There is a significant main effect of experience\": This means that the experience level of the employees has a significant impact on the outcome variable, independent of the software program used. Specifically, this suggests that experienced employees may complete the task faster than novices, or vice versa. This finding can be helpful for the company to identify the best employees for a given task and to provide appropriate training for new employees.\n",
        "\n",
        "\"There is NO significant interaction effect between software and experience\": This means that the effect of software on the outcome variable does not depend on the experience level of the employees, and vice versa. This suggests that the software programs perform similarly for both novices and experienced employees. This finding can be helpful for the company to decide which software program to use, as they do not need to consider the experience level of the employees when making the choice."
      ],
      "metadata": {
        "id": "M3-EwUjCVtkT"
      }
    },
    {
      "cell_type": "markdown",
      "source": [
        "Q11. An educational researcher is interested in whether a new teaching method improves student test\n",
        "scores. They randomly assign 100 students to either the control group (traditional teaching method) or the\n",
        "experimental group (new teaching method) and administer a test at the end of the semester. Conduct a\n",
        "two-sample t-test using Python to determine if there are any significant differences in test scores\n",
        "between the two groups. If the results are significant, follow up with a post-hoc test to determine which\n",
        "group(s) differ significantly from each other."
      ],
      "metadata": {
        "id": "c9IyMLDiVvvV"
      }
    },
    {
      "cell_type": "markdown",
      "source": [
        "Answer:-\n",
        "\n",
        "1.Two sample t-test , alpha=0.05"
      ],
      "metadata": {
        "id": "sj4sMpCJVzIM"
      }
    },
    {
      "cell_type": "code",
      "source": [
        "import pandas as pd\n",
        "import numpy as np\n",
        "from scipy.stats import ttest_ind\n",
        "\n",
        "# Setting numpy random seed\n",
        "np.random.seed(45)\n",
        "\n",
        "# Generating normal test scores with same variance for both control groups\n",
        "test_score_control = np.random.normal(loc=70, scale=3, size=50)\n",
        "test_score_experimental = np.random.normal(loc=85, scale=3, size=50)\n",
        "\n",
        "# Creating the dataframe\n",
        "df = pd.DataFrame({'test_score':list(test_score_control)+list(test_score_experimental),\n",
        "                   'group':['control']*50 + ['experimental']*50})\n",
        "\n",
        "# printing the sample dataframe\n",
        "print('Simulated data for test_scores:')\n",
        "print(df.head())\n",
        "print('\\n===============================\\n')\n",
        "\n",
        "null_hypothesis = \"There is NO difference in test scores between the control and experimental groups.\"\n",
        "alt_hypothesis = \"There is SIGNIFICANT difference in test scores between the control and experimental groups.\"\n",
        "\n",
        "# Conduct the two-sample t-test\n",
        "control_scores = df[df['group'] == 'control']['test_score']\n",
        "experimental_scores = df[df['group'] == 'experimental']['test_score']\n",
        "t_stat, p_val = ttest_ind(control_scores, experimental_scores, equal_var=True)\n",
        "print(f\"t-statistic: {t_stat:.4f}, p-value: {p_val}\")\n",
        "print('\\n')\n",
        "\n",
        "# Significance value\n",
        "alpha = 0.05\n",
        "if p_val<alpha:\n",
        "    print('Reject the Null Hypothesis')\n",
        "    print(f'Conclusion : {alt_hypothesis}')\n",
        "else:\n",
        "    print('Failed to reject the Null Hypothesis')\n",
        "    print(f'Conclusion : {null_hypothesis}')"
      ],
      "metadata": {
        "colab": {
          "base_uri": "https://localhost:8080/"
        },
        "id": "zEcR3mcKVoi2",
        "outputId": "69cb09af-967a-4566-e563-122216b8a498"
      },
      "execution_count": 14,
      "outputs": [
        {
          "output_type": "stream",
          "name": "stdout",
          "text": [
            "Simulated data for test_scores:\n",
            "   test_score    group\n",
            "0   70.079124  control\n",
            "1   70.780965  control\n",
            "2   68.814563  control\n",
            "3   69.387097  control\n",
            "4   66.185102  control\n",
            "\n",
            "===============================\n",
            "\n",
            "t-statistic: -28.5074, p-value: 3.096206271894725e-49\n",
            "\n",
            "\n",
            "Reject the Null Hypothesis\n",
            "Conclusion : There is SIGNIFICANT difference in test scores between the control and experimental groups.\n"
          ]
        }
      ]
    },
    {
      "cell_type": "markdown",
      "source": [
        "2.Tukey's HSD test"
      ],
      "metadata": {
        "id": "P7odR_fqYJCP"
      }
    },
    {
      "cell_type": "code",
      "source": [
        "from statsmodels.stats.multicomp import pairwise_tukeyhsd\n",
        "\n",
        "# Conduct post-hoc Tukey's test\n",
        "tukey_results = pairwise_tukeyhsd(df['test_score'], df['group'], 0.05)\n",
        "print(tukey_results)"
      ],
      "metadata": {
        "colab": {
          "base_uri": "https://localhost:8080/"
        },
        "id": "IAgLKPrBW7Hh",
        "outputId": "ca0b0e8b-a406-44e2-96cf-06fcf259362f"
      },
      "execution_count": 15,
      "outputs": [
        {
          "output_type": "stream",
          "name": "stdout",
          "text": [
            "   Multiple Comparison of Means - Tukey HSD, FWER=0.05    \n",
            "==========================================================\n",
            " group1    group2    meandiff p-adj  lower   upper  reject\n",
            "----------------------------------------------------------\n",
            "control experimental  15.8829   0.0 14.7773 16.9886   True\n",
            "----------------------------------------------------------\n"
          ]
        }
      ]
    },
    {
      "cell_type": "markdown",
      "source": [
        "Tukey's Results Interpretation\n",
        "\n",
        "1.Reject = True suggests that there is significant difference in both control and Experimental groups also p-adj is almost 0.\n",
        "\n",
        "2.Experimental group has increased the performance of test scores of students by mean of 15.88 approximately\n",
        "\n",
        "3.Mean score improved by Experimental method is (14.78,16.99) with 95% confidence level\n",
        "\n",
        "\n"
      ],
      "metadata": {
        "id": "Vh5RXMcaYP5o"
      }
    },
    {
      "cell_type": "markdown",
      "source": [
        "Q12. A researcher wants to know if there are any significant differences in the average daily sales of three\n",
        "retail stores: Store A, Store B, and Store C. They randomly select 30 days and record the sales for each store\n",
        "on those days. Conduct a repeated measures ANOVA using Python to determine if there are any significant differences in sales between the three stores. If the results are significant, follow up with a post-hoc test to determine which store(s) differ significantly from each other."
      ],
      "metadata": {
        "id": "Y95cHcGKYZCr"
      }
    },
    {
      "cell_type": "markdown",
      "source": [
        "Answer:-"
      ],
      "metadata": {
        "id": "FQtJS5EWYfBC"
      }
    },
    {
      "cell_type": "code",
      "source": [
        "# If not already installed, uncomment the following line to install the necessary library\n",
        "# !pip install statsmodels\n",
        "\n",
        "import numpy as np\n",
        "import pandas as pd\n",
        "import statsmodels.api as sm\n",
        "from statsmodels.formula.api import ols\n",
        "from statsmodels.stats.anova import AnovaRM\n",
        "from statsmodels.stats.multicomp import pairwise_tukeyhsd\n",
        "\n",
        "# Generate sample data for 30 days\n",
        "np.random.seed(42)\n",
        "days = np.arange(1, 31)\n",
        "store_A_sales = np.random.normal(200, 20, 30)  # Assuming mean sales of 200 and std deviation of 20\n",
        "store_B_sales = np.random.normal(210, 20, 30)  # Assuming mean sales of 210 and std deviation of 20\n",
        "store_C_sales = np.random.normal(220, 20, 30)  # Assuming mean sales of 220 and std deviation of 20\n",
        "\n",
        "# Create a DataFrame\n",
        "data = {\n",
        "    'Day': np.tile(days, 3),\n",
        "    'Store': np.repeat(['A', 'B', 'C'], 30),\n",
        "    'Sales': np.concatenate([store_A_sales, store_B_sales, store_C_sales])\n",
        "}\n",
        "\n",
        "df = pd.DataFrame(data)\n",
        "\n",
        "# Step 2: Fit the repeated measures ANOVA model\n",
        "aovrm = AnovaRM(df, 'Sales', 'Day', within=['Store'])\n",
        "res = aovrm.fit()\n",
        "\n",
        "# Step 3: Perform the repeated measures ANOVA\n",
        "print(res)\n",
        "\n",
        "\n",
        "# Perform Tukey's test\n",
        "tukey = pairwise_tukeyhsd(endog=df['Sales'],\n",
        "                          groups=df['Store'],\n",
        "                          alpha=0.05)\n",
        "\n",
        "# Print results\n",
        "print(tukey)\n"
      ],
      "metadata": {
        "colab": {
          "base_uri": "https://localhost:8080/"
        },
        "id": "RZZVXGbAYOd5",
        "outputId": "9640d7ff-f0d1-4a1d-d1e7-658dfd08d92f"
      },
      "execution_count": 18,
      "outputs": [
        {
          "output_type": "stream",
          "name": "stdout",
          "text": [
            "               Anova\n",
            "===================================\n",
            "      F Value Num DF  Den DF Pr > F\n",
            "-----------------------------------\n",
            "Store 12.6985 2.0000 58.0000 0.0000\n",
            "===================================\n",
            "\n",
            "Multiple Comparison of Means - Tukey HSD, FWER=0.05 \n",
            "====================================================\n",
            "group1 group2 meandiff p-adj   lower   upper  reject\n",
            "----------------------------------------------------\n",
            "     A      B  11.3397 0.0567 -0.2571 22.9365  False\n",
            "     A      C  24.0206    0.0 12.4238 35.6175   True\n",
            "     B      C  12.6809 0.0287  1.0841 24.2778   True\n",
            "----------------------------------------------------\n"
          ]
        }
      ]
    }
  ]
}